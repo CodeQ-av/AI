{
 "cells": [
  {
   "cell_type": "code",
   "execution_count": 23,
   "metadata": {},
   "outputs": [
    {
     "name": "stdout",
     "output_type": "stream",
     "text": [
      "Epochs 10/100  | Loss:  0.6260\n",
      "Epochs 20/100  | Loss:  0.5083\n",
      "Epochs 30/100  | Loss:  0.4348\n",
      "Epochs 40/100  | Loss:  0.3850\n",
      "Epochs 50/100  | Loss:  0.3492\n",
      "Epochs 60/100  | Loss:  0.3222\n",
      "Epochs 70/100  | Loss:  0.3009\n",
      "Epochs 80/100  | Loss:  0.2837\n",
      "Epochs 90/100  | Loss:  0.2694\n",
      "Epochs 100/100  | Loss:  0.2573\n",
      "Accuracy:0.9737\n"
     ]
    }
   ],
   "source": [
    "import torch \n",
    "import torch.nn as nn\n",
    "import torch.optim as optim \n",
    "from sklearn.datasets import load_breast_cancer\n",
    "from sklearn.model_selection import train_test_split\n",
    "from sklearn.preprocessing import StandardScaler\n",
    "\n",
    "data = load_breast_cancer()\n",
    "\n",
    "X, y = data.data, data.target\n",
    "\n",
    "# Split the training and testing sets\n",
    "X_train, X_test, y_train, y_test = train_test_split(X, y, test_size=0.2,random_state=42)\n",
    "\n",
    "# Stndard Scaler\n",
    "scaler = StandardScaler()\n",
    "X_train = scaler.fit_transform(X_train)\n",
    "X_test = scaler.transform(X_test)\n",
    "\n",
    "# Converting to PyTorch\n",
    "X_train_tensors = torch.tensor(X_train, dtype=torch.float32)\n",
    "y_train_tensors = torch.tensor(y_train, dtype=torch.float32).view(-1, 1)\n",
    "X_test_tensors = torch.tensor(X_test, dtype=torch.float32)\n",
    "y_test_tensors = torch.tensor(y_test, dtype=torch.float32).view(-1, 1)\n",
    "\n",
    "# Define the Logisitc Regression Model\n",
    "class LogisticRegression(nn.Module):\n",
    "    def __init__(self, input_dim):\n",
    "        super(LogisticRegression, self).__init__()\n",
    "        self.linear = nn.Linear(input_dim, 1) # Input feature is input dimensions and Output is still One\n",
    "        self.sigmoid = nn.Sigmoid()\n",
    "\n",
    "    def forward(self, x):\n",
    "        return self.sigmoid(self.linear(x))\n",
    "\n",
    "model = LogisticRegression(X_train.shape[1])\n",
    "loss_fn = nn.BCELoss() # Bineary Cross Entropy ~ converting in range 0 - 1\n",
    "optimizer = optim.SGD(model.parameters(), lr=0.01)\n",
    "\n",
    "# Training the Model\n",
    "epochs = 100\n",
    "for epoch in range(epochs):\n",
    "    optimizer.zero_grad()\n",
    "    output = model(X_train_tensors)\n",
    "    loss = loss_fn(output, y_train_tensors)\n",
    "    loss.backward()\n",
    "    optimizer.step()\n",
    "\n",
    "    if (epoch + 1) % 10 == 0:\n",
    "        print(f\"Epochs {epoch + 1}/{epochs}  | Loss: {loss.item(): .4f}\")\n",
    "\n",
    "with torch.no_grad():\n",
    "    y_pred = model(X_test_tensors)\n",
    "    y_pred_class = (y_pred > 0.5).float()\n",
    "    accuracy = (y_pred_class.eq(y_test_tensors).sum()/y_test_tensors.shape[0]).item()\n",
    "    print(f\"Accuracy:{accuracy:.4f}\")"
   ]
  },
  {
   "cell_type": "code",
   "execution_count": 19,
   "metadata": {},
   "outputs": [
    {
     "data": {
      "text/plain": [
       "(array([[9.029e+00, 1.733e+01, 5.879e+01, ..., 1.750e-01, 4.228e-01,\n",
       "         1.175e-01],\n",
       "        [2.109e+01, 2.657e+01, 1.427e+02, ..., 2.903e-01, 4.098e-01,\n",
       "         1.284e-01],\n",
       "        [9.173e+00, 1.386e+01, 5.920e+01, ..., 5.087e-02, 3.282e-01,\n",
       "         8.490e-02],\n",
       "        ...,\n",
       "        [1.429e+01, 1.682e+01, 9.030e+01, ..., 3.333e-02, 2.458e-01,\n",
       "         6.120e-02],\n",
       "        [1.398e+01, 1.962e+01, 9.112e+01, ..., 1.827e-01, 3.179e-01,\n",
       "         1.055e-01],\n",
       "        [1.218e+01, 2.052e+01, 7.722e+01, ..., 7.431e-02, 2.694e-01,\n",
       "         6.878e-02]], shape=(455, 30)),\n",
       " (455, 30),\n",
       " 30)"
      ]
     },
     "execution_count": 19,
     "metadata": {},
     "output_type": "execute_result"
    }
   ],
   "source": [
    "X_train, X_train.shape, X_train.shape[1]"
   ]
  },
  {
   "cell_type": "code",
   "execution_count": 48,
   "metadata": {},
   "outputs": [
    {
     "name": "stdout",
     "output_type": "stream",
     "text": [
      "True Value: 1\n",
      "--------------------------------------------------\n",
      "Prediciton Probablity 0.9999977350234985\n",
      "Predicted Class 1\n",
      "- - - - - - - - - - - - - - - - - - - - - - - - - \n",
      "True Value: 0\n",
      "--------------------------------------------------\n",
      "Prediciton Probablity 2.554641160124845e-23\n",
      "Predicted Class 0\n",
      "- - - - - - - - - - - - - - - - - - - - - - - - - \n",
      "True Value: 0\n",
      "--------------------------------------------------\n",
      "Prediciton Probablity 1.968224201513453e-15\n",
      "Predicted Class 0\n",
      "- - - - - - - - - - - - - - - - - - - - - - - - - \n",
      "True Value: 1\n",
      "--------------------------------------------------\n",
      "Prediciton Probablity 1.0\n",
      "Predicted Class 1\n",
      "- - - - - - - - - - - - - - - - - - - - - - - - - \n",
      "True Value: 1\n",
      "--------------------------------------------------\n",
      "Prediciton Probablity 1.0\n",
      "Predicted Class 1\n",
      "- - - - - - - - - - - - - - - - - - - - - - - - - \n",
      "True Value: 0\n",
      "--------------------------------------------------\n",
      "Prediciton Probablity 7.101386536104148e-13\n",
      "Predicted Class 0\n",
      "- - - - - - - - - - - - - - - - - - - - - - - - - \n",
      "True Value: 0\n",
      "--------------------------------------------------\n",
      "Prediciton Probablity 6.306812084781564e-20\n",
      "Predicted Class 0\n",
      "- - - - - - - - - - - - - - - - - - - - - - - - - \n",
      "True Value: 0\n",
      "--------------------------------------------------\n",
      "Prediciton Probablity 1.8482330688129878e-06\n",
      "Predicted Class 0\n",
      "- - - - - - - - - - - - - - - - - - - - - - - - - \n",
      "True Value: 1\n",
      "--------------------------------------------------\n",
      "Prediciton Probablity 0.9011357426643372\n",
      "Predicted Class 1\n",
      "- - - - - - - - - - - - - - - - - - - - - - - - - \n",
      "True Value: 1\n",
      "--------------------------------------------------\n",
      "Prediciton Probablity 1.0\n",
      "Predicted Class 1\n",
      "- - - - - - - - - - - - - - - - - - - - - - - - - \n"
     ]
    }
   ],
   "source": [
    "# Make Prediciton;\n",
    "for n in range(10):\n",
    "    sm = X_test[n].reshape(1, -1)\n",
    "    sm = scaler.transform(sm)\n",
    "    sm = torch.tensor(sm, dtype=torch.float32)\n",
    "\n",
    "    model.eval()\n",
    "    with torch.no_grad():\n",
    "        pred_prob = model(sm).item()\n",
    "        pred_class = 1 if pred_prob > 0.5 else 0\n",
    "\n",
    "    print(f'True Value: {y_test[n].item()}')\n",
    "    print(50*\"-\")\n",
    "    print(f'Prediciton Probablity', pred_prob)\n",
    "    print(f'Predicted Class', pred_class)\n",
    "    print(25*\"- \")"
   ]
  },
  {
   "cell_type": "code",
   "execution_count": null,
   "metadata": {},
   "outputs": [
    {
     "name": "stdout",
     "output_type": "stream",
     "text": [
      "Model Save Sucessfully! (in safetensors)\n"
     ]
    }
   ],
   "source": [
    "# Save the models;\n",
    "from safetensors.torch import save_file\n",
    "\n",
    "# Convert model state dict\n",
    "model_state = model.state_dict()\n",
    "# Save files \n",
    "save_file(model_state, 'Models/LR-BresastCancer.safetensors')\n",
    "print('Model Save Sucessfully! (in safetensors)')"
   ]
  },
  {
   "cell_type": "code",
   "execution_count": null,
   "metadata": {},
   "outputs": [],
   "source": []
  }
 ],
 "metadata": {
  "kernelspec": {
   "display_name": "Python 3",
   "language": "python",
   "name": "python3"
  },
  "language_info": {
   "codemirror_mode": {
    "name": "ipython",
    "version": 3
   },
   "file_extension": ".py",
   "mimetype": "text/x-python",
   "name": "python",
   "nbconvert_exporter": "python",
   "pygments_lexer": "ipython3",
   "version": "3.13.1"
  }
 },
 "nbformat": 4,
 "nbformat_minor": 2
}
