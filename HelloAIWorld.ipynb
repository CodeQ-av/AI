{
 "cells": [
  {
   "cell_type": "code",
   "execution_count": null,
   "metadata": {},
   "outputs": [
    {
     "data": {
      "text/plain": [
       "tensor([1, 2, 3, 4])"
      ]
     },
     "execution_count": 3,
     "metadata": {},
     "output_type": "execute_result"
    }
   ],
   "source": [
    "import torch\n",
    "\n",
    "tensors = torch.tensor([1, 2, 3, 4])\n",
    "tensors"
   ]
  },
  {
   "cell_type": "code",
   "execution_count": null,
   "metadata": {},
   "outputs": [
    {
     "name": "stdout",
     "output_type": "stream",
     "text": [
      "Before | Backward \n",
      "w.grad None\n",
      "b.grad None\n",
      "After | Backward \n",
      "w.grad tensor([-8.])\n",
      "b.grad tensor([-4.])\n"
     ]
    }
   ],
   "source": [
    "# Example\n",
    "import torch\n",
    "\n",
    "# Input values of X and true value y\n",
    "x = torch.tensor([2.0], requires_grad=True)\n",
    "y_true = torch.tensor([4.0])\n",
    "\n",
    "# Inital weight is 1. and bias zero\n",
    "w = torch.tensor([1.0], requires_grad=True)\n",
    "b = torch.tensor([0.0], requires_grad=True) # bias is zero\n",
    "\n",
    "# Simple linear model\n",
    "y_pred = w * x + b\n",
    "\n",
    "# Computing loss_fn\n",
    "loss_fn = (y_pred - y_true)**2\n",
    "\n",
    "print('Before | Backward ')\n",
    "print('w.grad', w.grad)\n",
    "print('b.grad', b.grad)\n",
    "\n",
    "loss_fn.backward() \n",
    "\n",
    "print('After | Backward ')\n",
    "print('w.grad', w.grad)\n",
    "print('b.grad', b.grad)\n"
   ]
  },
  {
   "cell_type": "code",
   "execution_count": null,
   "metadata": {},
   "outputs": [
    {
     "data": {
      "text/plain": [
       "tensor([4.])"
      ]
     },
     "execution_count": 14,
     "metadata": {},
     "output_type": "execute_result"
    }
   ],
   "source": [
    "x = torch.tensor([2.], requires_grad=True)\n",
    "y = x**2 \n",
    "\n",
    "y.backward()\n",
    "x.grad # derviate dy/dx = 2*x with x = 2"
   ]
  },
  {
   "cell_type": "code",
   "execution_count": 1,
   "metadata": {},
   "outputs": [
    {
     "data": {
      "text/plain": [
       "2"
      ]
     },
     "execution_count": 1,
     "metadata": {},
     "output_type": "execute_result"
    }
   ],
   "source": [
    "x = 2 \n",
    "x"
   ]
  },
  {
   "cell_type": "code",
   "execution_count": null,
   "metadata": {},
   "outputs": [
    {
     "name": "stdout",
     "output_type": "stream",
     "text": [
      "Predict for x=4.0:  7.997665882110596\n"
     ]
    }
   ],
   "source": [
    "import torch \n",
    "import torch.nn as nn\n",
    "import torch.optim as optim \n",
    "\n",
    "\n",
    "# The datasets of data: which act as a y = 2x\n",
    "x = torch.tensor([[1.0], [2.0], [3.0], [4.0]])\n",
    "y = torch.tensor([[2.0], [4.0], [6.0], [8.0]])\n",
    "\n",
    "# Define a simple linear model\n",
    "class SimpleModel(nn.Module):\n",
    "    def __init__(self):\n",
    "        super().__init__()\n",
    "        self.linear = nn.Linear(1, 1) # One Input feature and One output\n",
    "\n",
    "    def forward(self, x):\n",
    "        return self.linear(x)\n",
    "    \n",
    "model = SimpleModel()\n",
    "optimizer = optim.SGD(model.parameters(), lr=0.01)\n",
    "loss_fn = nn.MSELoss() # loss funciton for (y_true - y_pred)^2\n",
    "\n",
    "for epoch in range(500):\n",
    "    optimizer.zero_grad()\n",
    "    output = model(x)\n",
    "    loss = loss_fn(output, y)\n",
    "    loss.backward()\n",
    "    optimizer.step()\n",
    "\n",
    "n = 4.0\n",
    "prediction = model(torch.tensor([[n]])) \n",
    "print(f\"Predict for x={n}: \",(prediction.item()))"
   ]
  },
  {
   "cell_type": "code",
   "execution_count": null,
   "metadata": {},
   "outputs": [],
   "source": []
  }
 ],
 "metadata": {
  "kernelspec": {
   "display_name": "Python 3",
   "language": "python",
   "name": "python3"
  },
  "language_info": {
   "codemirror_mode": {
    "name": "ipython",
    "version": 3
   },
   "file_extension": ".py",
   "mimetype": "text/x-python",
   "name": "python",
   "nbconvert_exporter": "python",
   "pygments_lexer": "ipython3",
   "version": "3.13.1"
  }
 },
 "nbformat": 4,
 "nbformat_minor": 2
}
