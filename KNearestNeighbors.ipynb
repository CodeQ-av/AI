{
 "cells": [
  {
   "cell_type": "code",
   "execution_count": 20,
   "metadata": {},
   "outputs": [],
   "source": [
    "import numpy as np\n",
    "import matplotlib.pyplot as plt\n",
    "import torch\n",
    "import torch.nn.functional as F\n",
    "\n",
    "from sklearn import datasets\n",
    "from sklearn.preprocessing import StandardScaler\n",
    "from sklearn.metrics import accuracy_score, classification_report\n",
    "from sklearn.model_selection import train_test_split\n",
    "from sklearn.neighbors import KNeighborsClassifier"
   ]
  },
  {
   "cell_type": "code",
   "execution_count": 21,
   "metadata": {},
   "outputs": [
    {
     "name": "stdout",
     "output_type": "stream",
     "text": [
      "Accuracy (Sklearn): 1.00\n",
      "Classificatoin Report:               precision    recall  f1-score   support\n",
      "\n",
      "           0       1.00      1.00      1.00        10\n",
      "           1       1.00      1.00      1.00         9\n",
      "           2       1.00      1.00      1.00        11\n",
      "\n",
      "    accuracy                           1.00        30\n",
      "   macro avg       1.00      1.00      1.00        30\n",
      "weighted avg       1.00      1.00      1.00        30\n",
      "\n"
     ]
    }
   ],
   "source": [
    "iris = datasets.load_iris()\n",
    "X = iris.data # Features\n",
    "y = iris.target # Labels\n",
    "\n",
    "# Split the data into training and testing sets\n",
    "X_train, X_test, y_train, y_test = train_test_split(X, y, test_size=0.2, random_state=42)\n",
    "\n",
    "# Standardize the data\n",
    "scaler = StandardScaler()\n",
    "X_train = scaler.fit_transform(X_train)\n",
    "X_test = scaler.transform(X_test)\n",
    "\n",
    "# Initalize the K and Train the KNN Classifer\n",
    "k = 5\n",
    "knn_clf = KNeighborsClassifier(n_neighbors=k)\n",
    "knn_clf.fit(X_train, y_train)\n",
    "\n",
    "# make perdiction\n",
    "y_pred = knn_clf.predict(X_test)\n",
    "\n",
    "# Evaluate the model\n",
    "accuracy = accuracy_score(y_test, y_pred)\n",
    "\n",
    "print(f\"Accuracy (Sklearn): {accuracy:.2f}\")\n",
    "print(f\"Classificatoin Report:\", classification_report(y_test, y_pred))\n"
   ]
  },
  {
   "cell_type": "code",
   "execution_count": 22,
   "metadata": {},
   "outputs": [
    {
     "name": "stdout",
     "output_type": "stream",
     "text": [
      "Accuarcy (Py-torch KNN Classifer): 1.00\n"
     ]
    }
   ],
   "source": [
    "# Convert into tensors\n",
    "X_train_tensors = torch.tensor(X_train, dtype=torch.float32)\n",
    "X_test_tensors = torch.tensor(X_test, dtype=torch.float32)\n",
    "y_train_tensors = torch.tensor(y_train, dtype=torch.long)\n",
    "y_test_tensors = torch.tensor(y_test, dtype=torch.long)\n",
    "\n",
    "# Implementaiton of KNN\n",
    "\n",
    "class KNNClassifier():\n",
    "    def __init__(self, k=5):\n",
    "        self.k = k\n",
    "        \n",
    "    def fit(self, X, y):\n",
    "        self.X_train = X\n",
    "        self.y_train = y\n",
    "    \n",
    "    def predict(self, X):\n",
    "        distance = torch.cdist(X, self.X_train)\n",
    "        knn_indices = distance.topk(self.k, largest=False).indices\n",
    "        knn_labels = self.y_train[knn_indices]\n",
    "        y_pred = torch.mode(knn_labels, dim=1).values\n",
    "        return y_pred\n",
    "    \n",
    "# Train & Test the Py-torch KNN\n",
    "knn = KNNClassifier(5)\n",
    "knn.fit(X_train_tensors, y_train_tensors)\n",
    "y_pred_torch = knn.predict(X_test_tensors)\n",
    "\n",
    "# Evaluate Py-torch KNN\n",
    "accuracy_tr = (y_pred_torch == y_test_tensors).float().mean().item()\n",
    "\n",
    "print(f'Accuarcy (Py-torch KNN Classifer): {accuracy_tr:.2f}')\n"
   ]
  },
  {
   "cell_type": "code",
   "execution_count": 23,
   "metadata": {},
   "outputs": [
    {
     "data": {
      "text/plain": [
       "(array([[3.3 , 3.32, 3.34, ..., 8.84, 8.86, 8.88],\n",
       "        [3.3 , 3.32, 3.34, ..., 8.84, 8.86, 8.88],\n",
       "        [3.3 , 3.32, 3.34, ..., 8.84, 8.86, 8.88],\n",
       "        ...,\n",
       "        [3.3 , 3.32, 3.34, ..., 8.84, 8.86, 8.88],\n",
       "        [3.3 , 3.32, 3.34, ..., 8.84, 8.86, 8.88],\n",
       "        [3.3 , 3.32, 3.34, ..., 8.84, 8.86, 8.88]], shape=(220, 280)),\n",
       " array([[1.  , 1.  , 1.  , ..., 1.  , 1.  , 1.  ],\n",
       "        [1.02, 1.02, 1.02, ..., 1.02, 1.02, 1.02],\n",
       "        [1.04, 1.04, 1.04, ..., 1.04, 1.04, 1.04],\n",
       "        ...,\n",
       "        [5.34, 5.34, 5.34, ..., 5.34, 5.34, 5.34],\n",
       "        [5.36, 5.36, 5.36, ..., 5.36, 5.36, 5.36],\n",
       "        [5.38, 5.38, 5.38, ..., 5.38, 5.38, 5.38]], shape=(220, 280)))"
      ]
     },
     "execution_count": 23,
     "metadata": {},
     "output_type": "execute_result"
    }
   ],
   "source": [
    "h = .02\n",
    "X_min = X[:, 0].min() - 1 \n",
    "y_min = X[:, 1].min() - 1 \n",
    "X_max = X[:, 0].max() + 1\n",
    "y_max = X[:, 1].max() + 1\n",
    "\n",
    "xx, yy = np.meshgrid(np.arange(X_min, X_max, h), np.arange(y_min, y_max, h))\n",
    "xx, yy"
   ]
  },
  {
   "cell_type": "code",
   "execution_count": 24,
   "metadata": {},
   "outputs": [],
   "source": [
    "def plot_decision_boundary(X, y, model):\n",
    "    h = .02  # Step size in the mesh\n",
    "    x_min, x_max = X[:, 0].min() - 1, X[:, 0].max() + 1\n",
    "    y_min, y_max = X[:, 1].min() - 1, X[:, 1].max() + 1\n",
    "    xx, yy = np.meshgrid(np.arange(x_min, x_max, h), np.arange(y_min, y_max, h))\n",
    "    \n",
    "    # Convert NumPy array to PyTorch tensor before prediction\n",
    "    Z = model.predict(torch.tensor(np.c_[xx.ravel(), yy.ravel()], dtype=torch.float32))\n",
    "    Z = Z.numpy().reshape(xx.shape)  # Convert tensor back to NumPy for plotting\n",
    "    \n",
    "    plt.contourf(xx, yy, Z, alpha=0.3)\n",
    "    scatter = plt.scatter(X[:, 0], X[:, 1], c=y, edgecolor='k', cmap=plt.cm.Paired)\n",
    "    plt.xlabel('Feature 1')\n",
    "    plt.ylabel('Feature 2')\n",
    "    plt.title(f'KNN Decision Boundary (k={k})')\n",
    "    plt.legend(*scatter.legend_elements(), title=\"Classes\")\n",
    "    plt.show()\n"
   ]
  }
 ],
 "metadata": {
  "kernelspec": {
   "display_name": "Python 3",
   "language": "python",
   "name": "python3"
  },
  "language_info": {
   "codemirror_mode": {
    "name": "ipython",
    "version": 3
   },
   "file_extension": ".py",
   "mimetype": "text/x-python",
   "name": "python",
   "nbconvert_exporter": "python",
   "pygments_lexer": "ipython3",
   "version": "3.13.1"
  }
 },
 "nbformat": 4,
 "nbformat_minor": 2
}
